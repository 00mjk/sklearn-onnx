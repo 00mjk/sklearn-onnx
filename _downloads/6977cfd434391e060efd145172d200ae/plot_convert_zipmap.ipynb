{
  "cells": [
    {
      "cell_type": "code",
      "execution_count": null,
      "metadata": {
        "collapsed": false
      },
      "outputs": [],
      "source": [
        "%matplotlib inline"
      ]
    },
    {
      "cell_type": "markdown",
      "metadata": {},
      "source": [
        "\n\n# Probabilities as a vector or as a ZipMap\n\nA classifier usually returns a matrix of probabilities.\nBy default, *sklearn-onnx* converts that matrix\ninto a list of dictionaries where each probabilies is mapped\nto its class id or name. That mechanism retains the class names.\nThis conversion increases the prediction time and is not\nalways needed. Let's see how to deactivate this behaviour\non the Iris example.\n\n## Train a model and convert it.\n"
      ]
    },
    {
      "cell_type": "code",
      "execution_count": null,
      "metadata": {
        "collapsed": false
      },
      "outputs": [],
      "source": [
        "from timeit import repeat\nimport numpy\nimport sklearn\nfrom sklearn.datasets import load_iris\nfrom sklearn.model_selection import train_test_split\nimport onnxruntime as rt\nimport onnx\nimport skl2onnx\nfrom skl2onnx.common.data_types import FloatTensorType\nfrom skl2onnx import convert_sklearn\nfrom sklearn.linear_model import LogisticRegression\n\niris = load_iris()\nX, y = iris.data, iris.target\nX_train, X_test, y_train, y_test = train_test_split(X, y)\nclr = LogisticRegression(max_iter=500)\nclr.fit(X_train, y_train)\nprint(clr)\n\ninitial_type = [('float_input', FloatTensorType([None, 4]))]\nonx = convert_sklearn(clr, initial_types=initial_type,\n                      target_opset=12)"
      ]
    },
    {
      "cell_type": "markdown",
      "metadata": {},
      "source": [
        "## Output type\n\nLet's confirm the output type of the probabilities\nis a list of dictionaries with onnxruntime.\n\n"
      ]
    },
    {
      "cell_type": "code",
      "execution_count": null,
      "metadata": {
        "collapsed": false
      },
      "outputs": [],
      "source": [
        "sess = rt.InferenceSession(onx.SerializeToString())\nres = sess.run(None, {'float_input': X_test.astype(numpy.float32)})\nprint(res[1][:2])\nprint(\"probabilities type:\", type(res[1]))\nprint(\"type for the first observations:\", type(res[1][0]))"
      ]
    },
    {
      "cell_type": "markdown",
      "metadata": {},
      "source": [
        "## Without ZipMap\n\nLet's remove the ZipMap operator.\n\n"
      ]
    },
    {
      "cell_type": "code",
      "execution_count": null,
      "metadata": {
        "collapsed": false
      },
      "outputs": [],
      "source": [
        "initial_type = [('float_input', FloatTensorType([None, 4]))]\noptions = {id(clr): {'zipmap': False}}\nonx2 = convert_sklearn(clr, initial_types=initial_type, options=options,\n                       target_opset=12)\n\nsess2 = rt.InferenceSession(onx2.SerializeToString())\nres2 = sess2.run(None, {'float_input': X_test.astype(numpy.float32)})\nprint(res2[1][:2])\nprint(\"probabilities type:\", type(res2[1]))\nprint(\"type for the first observations:\", type(res2[1][0]))"
      ]
    },
    {
      "cell_type": "markdown",
      "metadata": {},
      "source": [
        "## Let's compare prediction time\n\n"
      ]
    },
    {
      "cell_type": "code",
      "execution_count": null,
      "metadata": {
        "collapsed": false
      },
      "outputs": [],
      "source": [
        "X32 = X_test.astype(numpy.float32)\n\nprint(\"Time with ZipMap:\")\nprint(repeat(lambda: sess.run(None, {'float_input': X32}),\n             number=100, repeat=3))\n\nprint(\"Time without ZipMap:\")\nprint(repeat(lambda: sess2.run(None, {'float_input': X32}),\n             number=100, repeat=3))\n\n# The prediction is much faster on this example.\n# The optimisation is even faster when the classes\n# are described with strings and not integers\n# as the final result (list of dictionaries) may copy\n# many times the same information with onnxruntime."
      ]
    },
    {
      "cell_type": "markdown",
      "metadata": {},
      "source": [
        "**Versions used for this example**\n\n"
      ]
    },
    {
      "cell_type": "code",
      "execution_count": null,
      "metadata": {
        "collapsed": false
      },
      "outputs": [],
      "source": [
        "print(\"numpy:\", numpy.__version__)\nprint(\"scikit-learn:\", sklearn.__version__)\nprint(\"onnx: \", onnx.__version__)\nprint(\"onnxruntime: \", rt.__version__)\nprint(\"skl2onnx: \", skl2onnx.__version__)"
      ]
    }
  ],
  "metadata": {
    "kernelspec": {
      "display_name": "Python 3",
      "language": "python",
      "name": "python3"
    },
    "language_info": {
      "codemirror_mode": {
        "name": "ipython",
        "version": 3
      },
      "file_extension": ".py",
      "mimetype": "text/x-python",
      "name": "python",
      "nbconvert_exporter": "python",
      "pygments_lexer": "ipython3",
      "version": "3.7.2"
    }
  },
  "nbformat": 4,
  "nbformat_minor": 0
}